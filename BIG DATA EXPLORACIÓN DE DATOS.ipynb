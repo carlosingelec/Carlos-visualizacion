{
  "nbformat": 4,
  "nbformat_minor": 0,
  "metadata": {
    "colab": {
      "name": "Untitled4.ipynb",
      "provenance": [],
      "private_outputs": true,
      "authorship_tag": "ABX9TyNyzJSb/+BvNzISPk586aD/",
      "include_colab_link": true
    },
    "kernelspec": {
      "name": "python3",
      "display_name": "Python 3"
    }
  },
  "cells": [
    {
      "cell_type": "markdown",
      "metadata": {
        "id": "view-in-github",
        "colab_type": "text"
      },
      "source": [
        "<a href=\"https://colab.research.google.com/github/carlosingelec/Carlos-visualizacion/blob/master/BIG%20DATA%20EXPLORACI%C3%93N%20DE%20DATOS.ipynb\" target=\"_parent\"><img src=\"https://colab.research.google.com/assets/colab-badge.svg\" alt=\"Open In Colab\"/></a>"
      ]
    },
    {
      "cell_type": "code",
      "metadata": {
        "id": "YfZ0N8E9Gs4s",
        "colab_type": "code",
        "colab": {}
      },
      "source": [
        "import pandas as pd\n",
        "import matplotlib.pyplot as plt\n",
        "import numpy as np"
      ],
      "execution_count": null,
      "outputs": []
    },
    {
      "cell_type": "code",
      "metadata": {
        "id": "KGUr4l7fHFWP",
        "colab_type": "code",
        "colab": {}
      },
      "source": [
        "# Data rodent\n",
        "\n",
        "urlR=\"http://esapubs.org/archive/ecol/E090/118/Portal_rodents_19772002.csv\"\n",
        "\n",
        "# Carga de datos\n",
        "\n",
        "# Data plant\n",
        "\n",
        "urlP1=\"http://esapubs.org/archive/ecol/E090/118/Portal_plant_summer_annual_19831988.csv\"\n",
        "urlP2=\"http://esapubs.org/archive/ecol/E090/118/Portal_plant_summer_perennial_19831988.csv\"\n",
        "urlP3=\"http://esapubs.org/archive/ecol/E090/118/Portal_plant_summer_annual_19892002.csv\"\n",
        "urlP4=\"http://esapubs.org/archive/ecol/E090/118/Portal_plant_summer_perennial_19892002.csv\"\n",
        "urlP5=\"http://esapubs.org/archive/ecol/E090/118/Portal_plant_winter_annual_19831988.csv\"\n",
        "urlP6=\"http://esapubs.org/archive/ecol/E090/118/Portal_plant_winter_perennial_19831988.csv\"\n",
        "urlP7=\"http://esapubs.org/archive/ecol/E090/118/Portal_plant_winter_annual_19892002.csv\"\n",
        "urlP8=\"http://esapubs.org/archive/ecol/E090/118/Portal_plant_winter_perennial_19892002.csv\"\n",
        "\n",
        "# Data ants\n",
        "urlA1=\"http://esapubs.org/archive/ecol/E090/118/Portal_ant_colony_19771987.csv\"\n",
        "urlA2=\"http://esapubs.org/archive/ecol/E090/118/Portal_ant_colony_19882002.csv\"\n",
        "urlA3=\"http://esapubs.org/archive/ecol/E090/118/Portal_ant_bait_19882002.csv\"\n",
        "\n",
        "# Data precipitation\n",
        "\n",
        "urlPR1=\"http://esapubs.org/archive/ecol/E090/118/Portal_precipitation_19801989.csv\"\n",
        "urlPR2=\"http://esapubs.org/archive/ecol/E090/118/Portal_precipitation_19892002.csv\"\n"
      ],
      "execution_count": null,
      "outputs": []
    },
    {
      "cell_type": "code",
      "metadata": {
        "id": "mBgSTYdiHJLV",
        "colab_type": "code",
        "colab": {}
      },
      "source": [
        "# Dataframe plant\n",
        "\n",
        "P1= pd.read_csv(urlP1)\n",
        "P1[\"Tipo\"]= \"Summer_anual\"\n",
        "P2= pd.read_csv(urlP2)\n",
        "P2[\"Tipo\"]= \"summer_perennial\"\n",
        "P3= pd.read_csv(urlP3)\n",
        "P3[\"Tipo\"]= \"Summer_anual\"\n",
        "P4= pd.read_csv(urlP4)\n",
        "P4[\"Tipo\"]= \"summer_perennial\"\n",
        "P5= pd.read_csv(urlP5)\n",
        "P5[\"Tipo\"]= \"winter_annual\"\n",
        "P6= pd.read_csv(urlP6)\n",
        "P6[\"Tipo\"]= \"winter_perennial\"\n",
        "P7= pd.read_csv(urlP7)\n",
        "P7[\"Tipo\"]= \"winter_annual\"\n",
        "P8= pd.read_csv(urlP8)\n",
        "P8[\"Tipo\"]= \"winter_perennial\""
      ],
      "execution_count": null,
      "outputs": []
    },
    {
      "cell_type": "code",
      "metadata": {
        "id": "8huBC7grHbmV",
        "colab_type": "code",
        "colab": {}
      },
      "source": [
        "# Dataframe ants\n",
        "\n",
        "A1= pd.read_csv(urlA1)\n",
        "A1[\"Tipo\"]= \"Hormigas\"\n",
        "A2= pd.read_csv(urlA2)\n",
        "A2[\"Tipo\"]= \"Hormigas\"\n",
        "A3= pd.read_csv(urlA3)\n",
        "A3[\"Tipo\"]= \"Cebo\""
      ],
      "execution_count": null,
      "outputs": []
    },
    {
      "cell_type": "code",
      "metadata": {
        "id": "kp3BWBoHHe8e",
        "colab_type": "code",
        "colab": {}
      },
      "source": [
        "# Dataframe precipitation\n",
        "\n",
        "PR1= pd.read_csv(urlPR1)\n",
        "PR1[\"Tipo\"]= \"Precipitaciones\"\n",
        "PR2= pd.read_csv(urlPR2)\n",
        "PR2[\"Tipo\"]= \"Precipitaciones\""
      ],
      "execution_count": null,
      "outputs": []
    },
    {
      "cell_type": "code",
      "metadata": {
        "id": "CU7S8iu7HhLO",
        "colab_type": "code",
        "colab": {}
      },
      "source": [
        "P1.head()"
      ],
      "execution_count": null,
      "outputs": []
    },
    {
      "cell_type": "code",
      "metadata": {
        "id": "Gfn0LM_pHsye",
        "colab_type": "code",
        "colab": {}
      },
      "source": [
        "# Corrección nombre de columna del Dataframe P1 ('grass_unk')\n",
        "P12 = P1.rename(columns={'grass_unkn':'grass_unk'})\n",
        "P12.columns # Nombre de las columnas"
      ],
      "execution_count": null,
      "outputs": []
    },
    {
      "cell_type": "code",
      "metadata": {
        "id": "427mjRH8Hu-O",
        "colab_type": "code",
        "colab": {}
      },
      "source": [
        "# Concatenar los conjuntos de datos de acuerdo a su periodo de estudio y numero de variables\n",
        "\n",
        "Summer_anual = pd.concat([P12,P3], axis=0)\n",
        "Summer_anual.columns\n",
        "Summer_anual.head() # Primeras lineas del dataframe\n",
        "Summer_anual.shape  # Cantidad de filas y columnas del dataframe\n",
        "#Summer_anual.isnull().values.any()"
      ],
      "execution_count": null,
      "outputs": []
    },
    {
      "cell_type": "code",
      "metadata": {
        "id": "c9fnVYR1H1oG",
        "colab_type": "code",
        "colab": {}
      },
      "source": [
        "# Corrección nombre de columna del Dataframe P1 ('Guti_saro')\n",
        "P42 = P4.rename(columns={'Gutti_saro':'Guti_saro'})\n",
        "P42.columns # Nombre de las columnas"
      ],
      "execution_count": null,
      "outputs": []
    },
    {
      "cell_type": "code",
      "metadata": {
        "id": "lDtroOnWH3oO",
        "colab_type": "code",
        "colab": {}
      },
      "source": [
        "summer_perennial = pd.concat([P2,P42], axis=0)\n",
        "summer_perennial.columns\n",
        "summer_perennial.head() # Primeras lineas del dataframe\n",
        "summer_perennial.shape  # Cantidad de filas y columnas del dataframe\n",
        "#summer_perennial.isnull().values.any()"
      ],
      "execution_count": null,
      "outputs": []
    },
    {
      "cell_type": "code",
      "metadata": {
        "id": "oyC3lfw0H8Pd",
        "colab_type": "code",
        "colab": {}
      },
      "source": [
        "# Corrección nombre de columna del Dataframe P5 ('Chen_frem')\n",
        "P52 = P5.rename(columns={'Chem_frem':'Chen_frem'})\n",
        "P52.columns # Nombre de las columnas\n",
        "P72 = P7.rename(columns={'Chem_frem':'Chen_frem'})\n",
        "P72.columns # Nombre de las columnas"
      ],
      "execution_count": null,
      "outputs": []
    },
    {
      "cell_type": "code",
      "metadata": {
        "id": "siLxJFk1H-eW",
        "colab_type": "code",
        "colab": {}
      },
      "source": [
        "# Concatenar los conjuntos de datos de acuerdo a su periodo de estudio y numero de variables\n",
        "\n",
        "winter_annual = pd.concat([P52,P72], axis=0)\n",
        "winter_annual.columns\n",
        "winter_annual.head() # Primeras lineas del dataframe\n",
        "winter_annual.shape  # Cantidad de filas y columnas del dataframe\n",
        "#Summer_anual.isnull().values.any()"
      ],
      "execution_count": null,
      "outputs": []
    },
    {
      "cell_type": "code",
      "metadata": {
        "id": "P0Jy_qY0IFKN",
        "colab_type": "code",
        "colab": {}
      },
      "source": [
        "# Corrección nombre de columna del Dataframe P6 ('Sida _phys' y 'Flour_cern')\n",
        "P62 = P6.rename(columns={'Sida _phys':'Sida_phys','Flour_cern':'Flou_cern'})\n",
        "P62.columns # Nombre de las columnas"
      ],
      "execution_count": null,
      "outputs": []
    },
    {
      "cell_type": "code",
      "metadata": {
        "id": "L-ULBtkQIHMF",
        "colab_type": "code",
        "colab": {}
      },
      "source": [
        "# Corrección nombre de columna del Dataframe P8 (Flour_cern')\n",
        "P82 = P8.rename(columns={'Flour_cern':'Flou_cern'})\n",
        "P82.columns # Nombre de las columnas"
      ],
      "execution_count": null,
      "outputs": []
    },
    {
      "cell_type": "code",
      "metadata": {
        "id": "FTxBi57gIKx-",
        "colab_type": "code",
        "colab": {}
      },
      "source": [
        "winter_perennial = pd.concat([P62,P82], axis=0)\n",
        "winter_perennial.columns\n",
        "winter_perennial.head() # Primeras lineas del dataframe\n",
        "winter_perennial.shape  # Cantidad de filas y columnas del dataframe\n",
        "#summer_perennial.isnull().values.any()"
      ],
      "execution_count": null,
      "outputs": []
    },
    {
      "cell_type": "code",
      "metadata": {
        "id": "PSJHyjVVIOu9",
        "colab_type": "code",
        "colab": {}
      },
      "source": [
        ""
      ],
      "execution_count": null,
      "outputs": []
    },
    {
      "cell_type": "markdown",
      "metadata": {
        "id": "7C_uaqhtIBGF",
        "colab_type": "text"
      },
      "source": [
        "\n",
        "\n",
        "```\n",
        "# Tiene formato de código\n",
        "```\n",
        "\n"
      ]
    }
  ]
}